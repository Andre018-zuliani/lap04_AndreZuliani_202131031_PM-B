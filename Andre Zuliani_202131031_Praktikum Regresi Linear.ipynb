{
 "cells": [
  {
   "cell_type": "markdown",
   "id": "e3df1e04",
   "metadata": {},
   "source": [
    "# Praktikum Regresi Linear pada tanggal 29 November 2023 di lab"
   ]
  },
  {
   "cell_type": "markdown",
   "id": "e0652fd5",
   "metadata": {},
   "source": [
    "# Mengimport libray"
   ]
  },
  {
   "cell_type": "code",
   "execution_count": 1,
   "id": "26595df5",
   "metadata": {},
   "outputs": [],
   "source": [
    "import numpy as np\n",
    "import pandas as pd\n",
    "from matplotlib import pyplot as plt\n",
    "from sklearn.linear_model import LinearRegression\n",
    "#Andre Zuliani_202131031"
   ]
  },
  {
   "cell_type": "markdown",
   "id": "cbdeacdf",
   "metadata": {},
   "source": [
    "# Membuat Dataset manual"
   ]
  },
  {
   "cell_type": "code",
   "execution_count": 2,
   "id": "9803caa4",
   "metadata": {},
   "outputs": [
    {
     "name": "stdout",
     "output_type": "stream",
     "text": [
      "    0   1\n",
      "0  51  63\n",
      "1  74  81\n",
      "2  45  56\n",
      "3  86  67\n",
      "4  49  57\n",
      "5  72  81\n",
      "6  68  71\n",
      "7  52  66\n",
      "8  41  46\n"
     ]
    }
   ],
   "source": [
    "df = pd.DataFrame ([[51,63], [74,81], [45,56], [86,67], [49,57], [72,81], [68,71], [52,66], [41,46]])\n",
    "print(df)\n",
    "#Andre Zuliani_202131031"
   ]
  },
  {
   "cell_type": "markdown",
   "id": "ed28f151",
   "metadata": {},
   "source": [
    "# Menampilkan Data pada Dataset manual"
   ]
  },
  {
   "cell_type": "code",
   "execution_count": 3,
   "id": "c8716d5a",
   "metadata": {},
   "outputs": [
    {
     "name": "stdout",
     "output_type": "stream",
     "text": [
      "   Tinggi Badan  Berat Badan\n",
      "0            51           63\n",
      "1            74           81\n",
      "2            45           56\n",
      "3            86           67\n",
      "4            49           57\n",
      "5            72           81\n",
      "6            68           71\n",
      "7            52           66\n",
      "8            41           46\n"
     ]
    }
   ],
   "source": [
    "df.columns=['Tinggi Badan', 'Berat Badan']\n",
    "print(df)\n",
    "#Andre Zuliani_202131031"
   ]
  },
  {
   "cell_type": "code",
   "execution_count": 4,
   "id": "18349f2d",
   "metadata": {},
   "outputs": [
    {
     "data": {
      "text/plain": [
       "array([[51],\n",
       "       [74],\n",
       "       [45],\n",
       "       [86],\n",
       "       [49],\n",
       "       [72],\n",
       "       [68],\n",
       "       [52],\n",
       "       [41]], dtype=int64)"
      ]
     },
     "execution_count": 4,
     "metadata": {},
     "output_type": "execute_result"
    }
   ],
   "source": [
    "x = df ['Tinggi Badan'].values [:, np.newaxis]\n",
    "x\n",
    "#Andre Zuliani_202131031"
   ]
  },
  {
   "cell_type": "code",
   "execution_count": 5,
   "id": "fca2448d",
   "metadata": {},
   "outputs": [
    {
     "data": {
      "text/plain": [
       "array([[63],\n",
       "       [81],\n",
       "       [56],\n",
       "       [67],\n",
       "       [57],\n",
       "       [81],\n",
       "       [71],\n",
       "       [66],\n",
       "       [46]], dtype=int64)"
      ]
     },
     "execution_count": 5,
     "metadata": {},
     "output_type": "execute_result"
    }
   ],
   "source": [
    "y = df ['Berat Badan'].values [:, np.newaxis]\n",
    "y\n",
    "#Andre Zuliani_202131031"
   ]
  },
  {
   "cell_type": "code",
   "execution_count": 6,
   "id": "a47ce85f",
   "metadata": {},
   "outputs": [
    {
     "data": {
      "image/png": "[encoded data removed]",
      "text/plain": [
       "<Figure size 640x480 with 1 Axes>"
      ]
     },
     "metadata": {},
     "output_type": "display_data"
    }
   ],
   "source": [
    "plt.scatter (x,y)\n",
    "plt.xlabel('Tinggi dalam cm')\n",
    "plt.ylabel('Berat dalam kg')\n",
    "plt.show()\n",
    "#Andre Zuliani_202131031"
   ]
  },
  {
   "cell_type": "markdown",
   "id": "ccfc4e55",
   "metadata": {},
   "source": [
    "# Menentukan data x dan y"
   ]
  },
  {
   "cell_type": "code",
   "execution_count": 7,
   "id": "804a5d18",
   "metadata": {},
   "outputs": [],
   "source": [
    "from sklearn.model_selection import train_test_split\n",
    "\n",
    "x_train, x_test, y_train, y_test = train_test_split(x,y, test_size=0.3, random_state=0)\n",
    "#Andre Zuliani_202131031"
   ]
  },
  {
   "cell_type": "code",
   "execution_count": 8,
   "id": "79c8eacd",
   "metadata": {},
   "outputs": [
    {
     "data": {
      "text/plain": [
       "array([[52],\n",
       "       [45],\n",
       "       [74]], dtype=int64)"
      ]
     },
     "execution_count": 8,
     "metadata": {},
     "output_type": "execute_result"
    }
   ],
   "source": [
    "x_test\n",
    "#Andre Zuliani_202131031"
   ]
  },
  {
   "cell_type": "code",
   "execution_count": 9,
   "id": "5d789013",
   "metadata": {},
   "outputs": [
    {
     "data": {
      "text/plain": [
       "array([[49],\n",
       "       [41],\n",
       "       [68],\n",
       "       [86],\n",
       "       [51],\n",
       "       [72]], dtype=int64)"
      ]
     },
     "execution_count": 9,
     "metadata": {},
     "output_type": "execute_result"
    }
   ],
   "source": [
    "x_train\n",
    "#Andre Zuliani_202131031"
   ]
  },
  {
   "cell_type": "code",
   "execution_count": 10,
   "id": "cb2db709",
   "metadata": {},
   "outputs": [
    {
     "data": {
      "text/plain": [
       "array([[66],\n",
       "       [56],\n",
       "       [81]], dtype=int64)"
      ]
     },
     "execution_count": 10,
     "metadata": {},
     "output_type": "execute_result"
    }
   ],
   "source": [
    "y_test\n",
    "#Andre Zuliani_202131031"
   ]
  },
  {
   "cell_type": "code",
   "execution_count": 11,
   "id": "4d52553b",
   "metadata": {},
   "outputs": [
    {
     "data": {
      "text/plain": [
       "array([[57],\n",
       "       [46],\n",
       "       [71],\n",
       "       [67],\n",
       "       [63],\n",
       "       [81]], dtype=int64)"
      ]
     },
     "execution_count": 11,
     "metadata": {},
     "output_type": "execute_result"
    }
   ],
   "source": [
    "y_train\n",
    "#Andre Zuliani_202131031"
   ]
  },
  {
   "cell_type": "markdown",
   "id": "e5cbc781",
   "metadata": {},
   "source": [
    "# Pemodelan Linear Regresi"
   ]
  },
  {
   "cell_type": "code",
   "execution_count": 12,
   "id": "e0a1cca1",
   "metadata": {},
   "outputs": [],
   "source": [
    "ln = LinearRegression()\n",
    "#Andre Zuliani_202131031"
   ]
  },
  {
   "cell_type": "code",
   "execution_count": 13,
   "id": "dc713f9d",
   "metadata": {},
   "outputs": [
    {
     "data": {
      "text/plain": [
       "LinearRegression()"
      ]
     },
     "execution_count": 13,
     "metadata": {},
     "output_type": "execute_result"
    }
   ],
   "source": [
    "ln.fit(x_train, y_train)\n",
    "#Andre Zuliani_202131031"
   ]
  },
  {
   "cell_type": "code",
   "execution_count": 14,
   "id": "f216ab71",
   "metadata": {},
   "outputs": [
    {
     "name": "stdout",
     "output_type": "stream",
     "text": [
      "Coefficient : [[0.53156493]]\n"
     ]
    }
   ],
   "source": [
    "print('Coefficient : ' + str(ln.coef_))\n",
    "#Andre Zuliani_202131031"
   ]
  },
  {
   "cell_type": "code",
   "execution_count": 15,
   "id": "9f910bab",
   "metadata": {},
   "outputs": [
    {
     "name": "stdout",
     "output_type": "stream",
     "text": [
      "Intercept : [31.65261207]\n"
     ]
    }
   ],
   "source": [
    "print('Intercept : '  + str(ln.intercept_))\n",
    "#Andre Zuliani_202131031"
   ]
  },
  {
   "cell_type": "code",
   "execution_count": 16,
   "id": "30d987fb",
   "metadata": {},
   "outputs": [],
   "source": [
    "p = ln.predict(x_test)\n",
    "#Andre Zuliani_202131031"
   ]
  },
  {
   "cell_type": "code",
   "execution_count": 17,
   "id": "d0b0d8df",
   "metadata": {},
   "outputs": [
    {
     "name": "stdout",
     "output_type": "stream",
     "text": [
      "[[59.29398818]\n",
      " [55.57303371]\n",
      " [70.98841654]]\n"
     ]
    }
   ],
   "source": [
    "print(p)\n",
    "#Andre Zuliani_202131031"
   ]
  },
  {
   "cell_type": "markdown",
   "id": "444c9c02",
   "metadata": {},
   "source": [
    "# Memvisualisasikan grafik linear regresi"
   ]
  },
  {
   "cell_type": "code",
   "execution_count": 20,
   "id": "209820e9",
   "metadata": {},
   "outputs": [
    {
     "data": {
      "image/png": "[encoded data removed]",
      "text/plain": [
       "<Figure size 640x480 with 1 Axes>"
      ]
     },
     "metadata": {},
     "output_type": "display_data"
    }
   ],
   "source": [
    "pb = ln.predict(x_train)\n",
    "plt.scatter (x_train, pb)\n",
    "plt.plot(x_train, pb, color ='purple', linewidth=1)\n",
    "plt.xlabel('Tinggi dalam cm')\n",
    "plt.ylabel('Berat dalam kg')\n",
    "plt.show()\n",
    "#Andre Zuliani_202131031"
   ]
  },
  {
   "cell_type": "markdown",
   "id": "71722b5d",
   "metadata": {},
   "source": [
    "# Melihat skor akurasi Linear Regresi"
   ]
  },
  {
   "cell_type": "code",
   "execution_count": 19,
   "id": "cb5b5e17",
   "metadata": {},
   "outputs": [
    {
     "name": "stdout",
     "output_type": "stream",
     "text": [
      "54.08904272667683\n"
     ]
    }
   ],
   "source": [
    "from sklearn.metrics import r2_score\n",
    "akurasi = r2_score(y_test, p)\n",
    "print (akurasi*100)\n",
    "#Andre Zuliani_202131031"
   ]
  }
 ],
 "metadata": {
  "kernelspec": {
   "display_name": "Python 3 (ipykernel)",
   "language": "python",
   "name": "python3"
  },
  "language_info": {
   "codemirror_mode": {
    "name": "ipython",
    "version": 3
   },
   "file_extension": ".py",
   "mimetype": "text/x-python",
   "name": "python",
   "nbconvert_exporter": "python",
   "pygments_lexer": "ipython3",
   "version": "3.9.13"
  }
 },
 "nbformat": 4,
 "nbformat_minor": 5
}
